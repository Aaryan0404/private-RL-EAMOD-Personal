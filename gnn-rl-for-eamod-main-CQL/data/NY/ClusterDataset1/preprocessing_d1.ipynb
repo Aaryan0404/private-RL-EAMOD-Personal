{
 "cells": [
  {
   "cell_type": "code",
   "execution_count": 18,
   "metadata": {},
   "outputs": [],
   "source": [
    "import json\n",
    "from collections import defaultdict\n",
    "import numpy as np\n",
    "import matplotlib.pyplot as plt\n",
    "import pickle\n",
    "import math"
   ]
  },
  {
   "cell_type": "code",
   "execution_count": 19,
   "metadata": {},
   "outputs": [
    {
     "name": "stdout",
     "output_type": "stream",
     "text": [
      "[ True  True  True  True  True  True  True  True  True  True  True  True\n",
      "  True  True  True  True  True  True  True  True False False False False\n",
      " False False False False False False False  True]\n",
      "total_demand 17488.0\n",
      "peak demand 740.0\n",
      "energy_distance [[1. 1. 2. 2. 2.]\n",
      " [1. 1. 1. 2. 2.]\n",
      " [2. 1. 1. 1. 1.]\n",
      " [2. 2. 1. 1. 1.]\n",
      " [3. 2. 1. 1. 1.]]\n",
      "mean time 1.0\n",
      "16\n",
      "26\n",
      "1400\n"
     ]
    }
   ],
   "source": [
    "od_data = np.load('od_matrix.npy')\n",
    "duration_data = np.load('duration_matrix.npy')\n",
    "distance_data = np.load('distance_matrix.npy')\n",
    "fleet_size = 1400\n",
    "number_charging_stations = fleet_size*0.05\n",
    "\n",
    "od_data = od_data[:, :, 48:80] # in requests\n",
    "duration_data = duration_data[:, :, 48:80] # in sec\n",
    "distance_data = distance_data[:, :, 48:80] # in miles\n",
    "demand_per_time = np.zeros(od_data.shape[2])\n",
    "for t in range(od_data.shape[2]):\n",
    "    demand_per_time[t] = od_data[:,:,t].sum()\n",
    "low_demand_times = demand_per_time < demand_per_time.max()*0.8\n",
    "print(low_demand_times)\n",
    "peak_hours = []\n",
    "for time in range(len(low_demand_times)):\n",
    "    if not low_demand_times[time]:\n",
    "        peak_hours.append(time)\n",
    "total_demand = od_data.sum()\n",
    "print(\"total_demand\", total_demand)\n",
    "number_regions = duration_data.shape[0]\n",
    "demand_distr = np.zeros(number_regions)\n",
    "charging_stations = np.zeros(number_regions)\n",
    "for region in range(number_regions):\n",
    "    demand_distr[region] = od_data[region,:,:].sum()/total_demand\n",
    "    charging_stations[region] = math.ceil(demand_distr[region]*number_charging_stations)\n",
    "\n",
    "delta_c = 1.5 # energy step [kWh] 0.75\n",
    "time_granularity = 0.5 # in h\n",
    "\n",
    "\n",
    "print(\"peak demand\", demand_per_time.max())\n",
    "\n",
    "chevy_bolt_capacity = 65 # in kWh\n",
    "chevy_bolt_usable_capacity = chevy_bolt_capacity * 0.6 # never go below 20% or above 80% of charge\n",
    "charger_capacity = 50.0 # assuming 50. kW Chargers\n",
    "assert (delta_c/charger_capacity)/time_granularity < 1\n",
    "charge_levels_per_charge_step = math.floor((charger_capacity*time_granularity)/delta_c)\n",
    "chevy_bolt_range = 230 # range in mi for mild city trips according to https://media.chevrolet.com/media/us/en/chevrolet/2022-bolt-euv-bolt-ev.detail.html/content/Pages/news/us/en/2021/feb/0214-boltev-bolteuv-specifications.html\n",
    "chevy_bolt_usable_range = chevy_bolt_range*0.6 # never go below 20% or above 80% of charge and assume 10% less efficient because of range https://cleantechnica.com/2017/10/13/autonomous-cars-shorter-range-due-high-power-consumption-computers/\n",
    "chevy_bolt_kwh_per_mi = (chevy_bolt_usable_capacity/chevy_bolt_usable_range)/0.7 # we lose 30% efficiency because of AVs (https://medium.com/@teraki/energy-consumption-required-by-edge-computing-reduces-a-autonomous-cars-mileage-with-up-to-30-46b6764ea1b7)\n",
    "energy_distance = np.ceil(((distance_data * chevy_bolt_kwh_per_mi)/delta_c).max(axis=2))\n",
    "energy_distance[energy_distance==0] = 1 # we should always use energy to satisfy a trip\n",
    "print(\"energy_distance\", energy_distance)\n",
    "np.save('energy_distance.npy', energy_distance)\n",
    "duration_data = np.round(duration_data/(3600*time_granularity)) # convert travel time from sec to h\n",
    "duration_data[duration_data==0] = 1. # it should always take time to satisfy a trip\n",
    "print(\"mean time\", duration_data.mean())\n",
    "episode_length = int(od_data.shape[2]/2)\n",
    "# https://www.pge.com/tariffs/assets/pdf/tariffbook/ELEC_SCHEDS_BEV.pdf for prices of energy\n",
    "p_energy = np.ones(episode_length)*0.16872 # in $/kWh\n",
    "p_energy[int(16/time_granularity):int(21/time_granularity)] = 0.38195 # peak prices\n",
    "p_energy[int(9/time_granularity):int(14/time_granularity)] = 0.14545 # super off peak prices\n",
    "p_energy *= delta_c # in $/ charge level\n",
    "p_travel = 0.0770 # [$ / mi] https://newsroom.aaa.com/wp-content/uploads/2021/08/2021-YDC-Brochure-Live.pdf \n",
    "avg_miles_per_h_driving = 9.6 # in m/h from 190x190x24\n",
    "operational_cost_per_timestep = avg_miles_per_h_driving * time_granularity * p_travel\n",
    "# fleet_size = demand_per_time.max()*duration_data.mean()\n",
    "peak_demand_additional_vehicles = 0\n",
    "\n",
    "number_chargelevels = int(chevy_bolt_usable_capacity/delta_c)\n",
    "number_spatial_nodes = number_regions\n",
    "charge_locations = np.ones(number_spatial_nodes,dtype=bool).tolist()\n",
    "cars_per_station_capacity = charging_stations.tolist()\n",
    "\n",
    "print(charge_levels_per_charge_step)\n",
    "print(number_chargelevels)\n",
    "print(fleet_size)"
   ]
  },
  {
   "cell_type": "code",
   "execution_count": 20,
   "metadata": {},
   "outputs": [
    {
     "name": "stdout",
     "output_type": "stream",
     "text": [
      "17488\n",
      "16\n"
     ]
    }
   ],
   "source": [
    "new_tripAttr = []\n",
    "new_reb_time = []\n",
    "new_total_acc = []\n",
    "temp_demand = 0\n",
    "for origin in range(duration_data.shape[0]):\n",
    "    for destination in range(duration_data.shape[1]):\n",
    "        for ts in range(episode_length):\n",
    "            attr = defaultdict()\n",
    "            attr['time_stamp'] = ts\n",
    "            attr['origin'] = origin\n",
    "            attr['destination'] = destination\n",
    "            attr['demand'] = round(od_data[origin,destination,ts*2]+od_data[origin,destination,ts*2+1]) # create equal distributed demand over granular time \n",
    "            temp_demand += attr['demand']\n",
    "            attr['price'] = (distance_data[origin,destination,ts*2]+distance_data[origin,destination,ts*2+1])*0.5*0.91 + (duration_data[origin,destination,ts*2]+duration_data[origin,destination,ts*2+1])*0.5*time_granularity * 0.39 + 2.20 + 2.70 # in $\n",
    "            new_tripAttr.append(attr)\n",
    "\n",
    "            reb = defaultdict()\n",
    "            reb['time_stamp'] = ts\n",
    "            reb['origin'] = origin\n",
    "            reb['destination'] = destination\n",
    "            reb['reb_time'] = int(duration_data[origin,destination,ts])\n",
    "            new_reb_time.append(reb)\n",
    "print(temp_demand)\n",
    "# should be able to change 24 to 1, we don't change the number of vehicles across the day\n",
    "for hour in range(24):\n",
    "    acc = defaultdict()\n",
    "    acc['hour'] = hour\n",
    "    acc['acc'] = math.ceil(fleet_size)\n",
    "    new_total_acc.append(acc)\n",
    "new_data = defaultdict()\n",
    "new_data['demand'] = new_tripAttr\n",
    "new_data['rebTime'] = new_reb_time\n",
    "new_data['totalAcc'] = new_total_acc\n",
    "new_data['additionalVehiclesPeakDemand'] = peak_demand_additional_vehicles\n",
    "new_data['peakHours'] = peak_hours\n",
    "new_data['chargelevels'] = number_chargelevels\n",
    "new_data['spatialNodes'] = number_spatial_nodes\n",
    "new_data['chargeLevelsPerChargeStep'] = charge_levels_per_charge_step\n",
    "new_data['episodeLength'] = episode_length\n",
    "new_data['energy_prices'] = p_energy.tolist()\n",
    "new_data['chargeLocations'] = charge_locations\n",
    "new_data['carsPerStationCapacity'] = cars_per_station_capacity\n",
    "new_data['timeGranularity'] = time_granularity\n",
    "new_data['operationalCostPerTimestep'] = operational_cost_per_timestep\n",
    "print(episode_length)\n",
    "with open('d1.json', 'w') as f:\n",
    "    json.dump(new_data, f)"
   ]
  },
  {
   "cell_type": "code",
   "execution_count": null,
   "metadata": {},
   "outputs": [],
   "source": []
  }
 ],
 "metadata": {
  "kernelspec": {
   "display_name": "Python 3.7.12 ('pamod')",
   "language": "python",
   "name": "python3"
  },
  "language_info": {
   "codemirror_mode": {
    "name": "ipython",
    "version": 3
   },
   "file_extension": ".py",
   "mimetype": "text/x-python",
   "name": "python",
   "nbconvert_exporter": "python",
   "pygments_lexer": "ipython3",
   "version": "3.7.12"
  },
  "orig_nbformat": 4,
  "vscode": {
   "interpreter": {
    "hash": "0f8edb555df32b3dff9504d8c4d29eadaf231ea869cc9ae1afb4d8556d0e264c"
   }
  }
 },
 "nbformat": 4,
 "nbformat_minor": 2
}
