{
 "cells": [
  {
   "cell_type": "code",
   "execution_count": 6,
   "metadata": {},
   "outputs": [],
   "source": [
    "import json\n",
    "from collections import defaultdict\n",
    "import numpy as np\n",
    "import matplotlib.pyplot as plt\n",
    "import pickle\n",
    "import math"
   ]
  },
  {
   "cell_type": "code",
   "execution_count": 7,
   "metadata": {},
   "outputs": [
    {
     "name": "stdout",
     "output_type": "stream",
     "text": [
      "4427837\n",
      "2.0\n",
      "10\n"
     ]
    }
   ],
   "source": [
    "od_data = np.load('od_matrix.npy')\n",
    "duration_data = np.load('duration_matrix.npy')\n",
    "distance_data = np.load('distance_matrix.npy')\n",
    "od_data = od_data[:-3, :-3, :]\n",
    "duration_data = duration_data[:-3, :-3, :]\n",
    "distance_data = distance_data[:-3, :-3, :]\n",
    "delta_c = 1. # energy step [kWh] 0.75\n",
    "time_granularity = 0.25 # in h\n",
    "profit_per_mile = 0.8 # in $\n",
    "cost_per_mile = 1 # in $\n",
    "charger_capacity = 22.5 # assuming 22.5 kW Chargers\n",
    "nissan_leave_capacity = 62 # in kWh\n",
    "charge_time_per_delta_c = math.ceil((delta_c/charger_capacity)/time_granularity)\n",
    "print(np.sum(od_data))\n",
    "spring_kwh_per_mi = 11.9 / 100 * 1.609344\n",
    "energy_distance = np.ceil(((distance_data * spring_kwh_per_mi)/delta_c).max(axis=2))\n",
    "energy_distance[energy_distance==0] = 1. # we should always use energy to satisfy a trip\n",
    "print(energy_distance.max())\n",
    "np.save('energy_distance.npy', energy_distance)\n",
    "duration_data = np.round(duration_data/(3600*time_granularity)) # convert travel time from sec to min\n",
    "duration_data[duration_data==0] = 1. # it should always take time to satisfy a trip\n",
    "data_timespan = od_data.shape[2]\n",
    "episode_length = int(data_timespan/time_granularity)\n",
    "fleet_size = 116616 * 2 # got number from Justin Lukes optimization with boundary:283905, without boundary:116616\n",
    "# number_chargelevels = int(nissan_leave_capacity/delta_c)\n",
    "number_chargelevels = 10\n",
    "number_spatial_nodes = 10\n",
    "print(number_chargelevels)\n"
   ]
  },
  {
   "cell_type": "code",
   "execution_count": 8,
   "metadata": {},
   "outputs": [],
   "source": [
    "new_tripAttr = []\n",
    "new_reb_time = []\n",
    "new_total_acc = []\n",
    "for origin in range(duration_data.shape[0]):\n",
    "    for destination in range(duration_data.shape[1]):\n",
    "        for ts in range(episode_length):\n",
    "            attr = defaultdict()\n",
    "            attr['time_stamp'] = ts\n",
    "            attr['origin'] = origin\n",
    "            attr['destination'] = destination\n",
    "            attr['demand'] = round(od_data[origin,destination,int(ts*time_granularity)]*time_granularity) # create equal distributed demand over granular time\n",
    "            attr['price'] = (profit_per_mile + cost_per_mile) * distance_data[origin,destination,int(ts*time_granularity)]\n",
    "            new_tripAttr.append(attr)\n",
    "\n",
    "            reb = defaultdict()\n",
    "            reb['time_stamp'] = ts\n",
    "            reb['origin'] = origin\n",
    "            reb['destination'] = destination\n",
    "            reb['reb_time'] = int(duration_data[origin,destination,int(ts*time_granularity)])\n",
    "            new_reb_time.append(reb)\n",
    "\n",
    "for hour in range(24):\n",
    "    acc = defaultdict()\n",
    "    acc['hour'] = hour\n",
    "    acc['acc'] = math.ceil(fleet_size)\n",
    "    new_total_acc.append(acc)\n",
    "new_data = defaultdict()\n",
    "new_data['demand'] = new_tripAttr\n",
    "new_data['rebTime'] = new_reb_time\n",
    "new_data['totalAcc'] = new_total_acc\n",
    "new_data['chargelevels'] = number_chargelevels\n",
    "new_data['spacialNodes'] = number_spatial_nodes\n",
    "new_data['chargeTime'] = charge_time_per_delta_c\n",
    "new_data['episodeLength'] = episode_length\n",
    "\n",
    "with open('SF_10.json', 'w') as f:\n",
    "    json.dump(new_data, f)"
   ]
  },
  {
   "cell_type": "code",
   "execution_count": 4,
   "metadata": {},
   "outputs": [
    {
     "name": "stdout",
     "output_type": "stream",
     "text": [
      "1362240\n",
      "(4, 4, 24)\n",
      "here 38872\n",
      "1040926\n",
      "(4, 4, 24)\n",
      "here 38872\n",
      "851888\n",
      "(4, 4, 24)\n",
      "here 38872\n"
     ]
    }
   ],
   "source": [
    "subproblem_0 = [0,4]\n",
    "subproblem_1 = [3,7]\n",
    "subproblem_2 = [6,10]\n",
    "subproblem_fleet_size = math.ceil(fleet_size/3.)\n",
    "number_chargelevels_subproblem = 5\n",
    "number_spatial_nodes_subproblem = subproblem_0[1]-subproblem_0[0]\n",
    "\n",
    "subproblem_idx = -1\n",
    "for subproblem in np.array([subproblem_0, subproblem_1, subproblem_2]):\n",
    "    subproblem_idx += 1\n",
    "    begin = subproblem[0]\n",
    "    end = subproblem[1]\n",
    "    od_subproblem = od_data[begin:end, begin:end, :]\n",
    "    print(sum(sum(sum(od_subproblem))))\n",
    "    print(od_subproblem.shape)\n",
    "    duration_subproblem = duration_data[begin:end, begin:end, :]\n",
    "    distance_subproblem = distance_data[begin:end, begin:end, :]\n",
    "    energy_subproblem = energy_distance[begin:end, begin:end]\n",
    "    new_tripAttr = []\n",
    "    new_reb_time = []\n",
    "    new_total_acc = []\n",
    "    for origin in range(duration_subproblem.shape[0]):\n",
    "        for destination in range(duration_subproblem.shape[1]):\n",
    "            for ts in range(episode_length):\n",
    "                attr = defaultdict()\n",
    "                attr['time_stamp'] = ts\n",
    "                attr['origin'] = origin\n",
    "                attr['destination'] = destination\n",
    "                attr['demand'] = round(od_subproblem[origin,destination,int(ts*time_granularity)]*time_granularity) # create equal distributed demand over granular time\n",
    "                attr['price'] = (profit_per_mile + cost_per_mile) * distance_subproblem[origin,destination,int(ts*time_granularity)]\n",
    "                new_tripAttr.append(attr)\n",
    "\n",
    "                reb = defaultdict()\n",
    "                reb['time_stamp'] = ts\n",
    "                reb['origin'] = origin\n",
    "                reb['destination'] = destination\n",
    "                reb['reb_time'] = int(duration_subproblem[origin,destination,int(ts*time_granularity)])\n",
    "                new_reb_time.append(reb)\n",
    "    np.save('subproblem_'+str(subproblem_idx)+'_energy_distance.npy', energy_subproblem)\n",
    "    for hour in range(24):\n",
    "        acc = defaultdict()\n",
    "        acc['hour'] = hour\n",
    "        acc['acc'] = math.ceil(subproblem_fleet_size)\n",
    "        new_total_acc.append(acc)\n",
    "    new_data = defaultdict()\n",
    "    new_data['demand'] = new_tripAttr\n",
    "    new_data['rebTime'] = new_reb_time\n",
    "    new_data['totalAcc'] = new_total_acc\n",
    "    new_data['chargelevels'] = number_chargelevels_subproblem\n",
    "    new_data['spacialNodes'] = number_spatial_nodes_subproblem\n",
    "    new_data['chargeTime'] = charge_time_per_delta_c\n",
    "    new_data['episodeLength'] = episode_length\n",
    "    print('here',subproblem_fleet_size)\n",
    "\n",
    "    with open('subproblem_'+str(subproblem_idx)+'_SF_10.json', 'w') as f:\n",
    "        json.dump(new_data, f)"
   ]
  },
  {
   "cell_type": "code",
   "execution_count": null,
   "metadata": {},
   "outputs": [],
   "source": []
  }
 ],
 "metadata": {
  "kernelspec": {
   "display_name": "Python 3.7.12 ('pamod')",
   "language": "python",
   "name": "python3"
  },
  "language_info": {
   "codemirror_mode": {
    "name": "ipython",
    "version": 3
   },
   "file_extension": ".py",
   "mimetype": "text/x-python",
   "name": "python",
   "nbconvert_exporter": "python",
   "pygments_lexer": "ipython3",
   "version": "3.7.12"
  },
  "orig_nbformat": 4,
  "vscode": {
   "interpreter": {
    "hash": "0f8edb555df32b3dff9504d8c4d29eadaf231ea869cc9ae1afb4d8556d0e264c"
   }
  }
 },
 "nbformat": 4,
 "nbformat_minor": 2
}
