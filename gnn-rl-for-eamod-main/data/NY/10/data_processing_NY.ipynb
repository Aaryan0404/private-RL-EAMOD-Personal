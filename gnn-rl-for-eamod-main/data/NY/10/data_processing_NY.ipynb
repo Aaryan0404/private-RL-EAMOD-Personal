{
 "cells": [
  {
   "cell_type": "code",
   "execution_count": 4,
   "metadata": {},
   "outputs": [],
   "source": [
    "import json\n",
    "from collections import defaultdict\n",
    "import numpy as np\n",
    "import matplotlib.pyplot as plt\n",
    "import pickle\n",
    "import math"
   ]
  },
  {
   "cell_type": "code",
   "execution_count": 5,
   "metadata": {},
   "outputs": [
    {
     "name": "stdout",
     "output_type": "stream",
     "text": [
      "demand per time: [1374. 1013.  914.  853.  696.  616.  508.  446.  420.  387.  345.  297.\n",
      "  334.  309.  339.  334.  410.  446.  516.  530.  614.  657.  872.  933.\n",
      " 1015. 1258. 1438. 1456. 1679. 1829. 2085. 2001. 2186. 2315. 2516. 2369.\n",
      " 2282. 2060. 2168. 1924. 1858. 1806. 1853. 1746. 1696. 1741. 1799. 1765.\n",
      " 1801. 1812. 1805. 1759. 1822. 1752. 1869. 1762. 1901. 1832. 1973. 1954.\n",
      " 2075. 1944. 2146. 2008. 2101. 2021. 2227. 2197. 2512. 2372. 2598. 2453.\n",
      " 2654. 2497. 2484. 2383. 2605. 2416. 2315. 2300. 2339. 2299. 2353. 2175.\n",
      " 2283. 2326. 2270. 2306. 2218. 2237. 2225. 2138. 2095. 1883. 1743. 1652.]\n",
      "(10, 10, 4)\n",
      "2106.0\n",
      "peak demand: 80.0\n",
      "energy_distance:  [[ 2.  5. 12.  4.  4.  5.  5.  3.  4.  4.]\n",
      " [ 5.  2. 15.  8.  8.  9.  7.  5.  9.  4.]\n",
      " [ 5.  5.  5.  5.  5.  5.  5.  5.  5.  5.]\n",
      " [ 4.  8. 10.  1.  3.  4.  6.  5.  2.  7.]\n",
      " [ 5.  8.  8.  3.  1.  2.  4.  3.  4.  7.]\n",
      " [ 5.  9.  6.  4.  2.  1.  2.  4.  5.  7.]\n",
      " [ 5.  7.  8.  6.  4.  2.  1.  3.  7.  7.]\n",
      " [ 3.  5.  9.  5.  3.  4.  3.  1.  5.  4.]\n",
      " [ 4.  8. 11.  2.  4.  5.  6.  5.  1.  6.]\n",
      " [ 4.  4. 13.  7.  7.  7.  7.  4.  6.  1.]]\n",
      "operational_cost_per_timestep:  0.1848\n",
      "cars_per_station_capacity:  [43.0, 43.0, 43.0, 43.0, 43.0, 43.0, 43.0, 43.0, 43.0, 43.0]\n",
      "charge_levels_per_charge_step:  12\n",
      "number_chargelevels:  39\n"
     ]
    }
   ],
   "source": [
    "od_data = np.load('od_matrix.npy')\n",
    "duration_data = np.load('duration_matrix.npy')\n",
    "distance_data = np.load('distance_matrix.npy')\n",
    "demand_per_time = np.zeros(od_data.shape[2])\n",
    "for t in range(od_data.shape[2]):\n",
    "    demand_per_time[t] = od_data[:,:,t].sum()\n",
    "print(\"demand per time:\", demand_per_time)\n",
    "low_demand_times = demand_per_time < demand_per_time.max()*0.7\n",
    "od_data = od_data[:, :, 17:21] # in requests\n",
    "duration_data = duration_data[:, :, 17:21] # in sec\n",
    "distance_data = distance_data[:, :, 17:21] # in miles\n",
    "print(od_data.shape)\n",
    "print(od_data.sum())\n",
    "print(\"peak demand:\", od_data.max())\n",
    "\n",
    "# set remaing nans to avg\n",
    "avg_duration = int(np.nanmean(duration_data))\n",
    "duration_data[np.isnan(duration_data)] = avg_duration\n",
    "avg_distance = int(np.nanmean(distance_data))\n",
    "distance_data[np.isnan(distance_data)] = avg_distance\n",
    "delta_c = 1. # energy step [kWh] 0.75\n",
    "time_granularity = 0.25 # in h\n",
    "\n",
    "chevy_bolt_capacity = 65 # in kWh\n",
    "chevy_bolt_usable_capacity = chevy_bolt_capacity * 0.6 # never go below 20% or above 80% of charge\n",
    "charger_capacity = 50.0 # assuming 50. kW Chargers\n",
    "assert (delta_c/charger_capacity)/time_granularity < 1\n",
    "charge_levels_per_charge_step = math.floor((charger_capacity*time_granularity)/delta_c)\n",
    "# print(charge_levels_per_charge_step)\n",
    "chevy_bolt_range = 230 # range in mi for mild city trips according to https://media.chevrolet.com/media/us/en/chevrolet/2022-bolt-euv-bolt-ev.detail.html/content/Pages/news/us/en/2021/feb/0214-boltev-bolteuv-specifications.html\n",
    "chevy_bolt_usable_range = chevy_bolt_range*0.6 # never go below 20% or above 80% of charge and assume 10% less efficient because of range https://cleantechnica.com/2017/10/13/autonomous-cars-shorter-range-due-high-power-consumption-computers/\n",
    "chevy_bolt_kwh_per_mi = (chevy_bolt_usable_capacity/chevy_bolt_usable_range)/0.7 # we lose 30% efficiency because of AVs (https://medium.com/@teraki/energy-consumption-required-by-edge-computing-reduces-a-autonomous-cars-mileage-with-up-to-30-46b6764ea1b7)\n",
    "# print((distance_data * chevy_bolt_kwh_per_mi)/delta_c)\n",
    "# print(chevy_bolt_kwh_per_mi)\n",
    "energy_distance = np.ceil(((distance_data * chevy_bolt_kwh_per_mi)/delta_c).max(axis=2))\n",
    "energy_distance[energy_distance==0] = 1 # we should always use energy to satisfy a trip\n",
    "print(\"energy_distance: \", energy_distance)\n",
    "np.save('energy_distance.npy', energy_distance)\n",
    "# print(np.sum(energy_distance==1.))\n",
    "# print(energy_distance.max())\n",
    "duration_data = np.round(duration_data/(3600*time_granularity)) # convert travel time from sec to h\n",
    "duration_data[duration_data==0] = 1. # it should always take time to satisfy a trip\n",
    "data_timespan = od_data.shape[2]\n",
    "episode_length = int(data_timespan/time_granularity)\n",
    "# https://www.pge.com/tariffs/assets/pdf/tariffbook/ELEC_SCHEDS_BEV.pdf for prices of energy\n",
    "p_energy = np.ones(episode_length)*0.16872 # in $/kWh\n",
    "p_energy[int(16/time_granularity):int(21/time_granularity)] = 0.38195 # peak prices\n",
    "p_energy[int(9/time_granularity):int(14/time_granularity)] = 0.14545 # super off peak prices\n",
    "p_energy *= delta_c # in $/ charge level\n",
    "p_travel = 0.0770 # [$ / mi] https://newsroom.aaa.com/wp-content/uploads/2021/08/2021-YDC-Brochure-Live.pdf \n",
    "avg_miles_per_h_driving = 9.6 # in m/h from 190x190x24\n",
    "operational_cost_per_timestep = avg_miles_per_h_driving * time_granularity * p_travel\n",
    "print(\"operational_cost_per_timestep: \", operational_cost_per_timestep)\n",
    "fleet_size = 8500 # got number from Justin: 116616\n",
    "\n",
    "number_chargelevels = int(chevy_bolt_usable_capacity/delta_c)\n",
    "number_spatial_nodes = 10\n",
    "charge_locations = np.ones(number_spatial_nodes,dtype=bool).tolist()\n",
    "cars_per_station_capacity = (np.ceil(np.ones(number_spatial_nodes)*fleet_size*0.05/number_spatial_nodes)).tolist()\n",
    "print(\"cars_per_station_capacity: \", cars_per_station_capacity)\n",
    "\n",
    "print(\"charge_levels_per_charge_step: \", charge_levels_per_charge_step)\n",
    "print(\"number_chargelevels: \", number_chargelevels)"
   ]
  },
  {
   "cell_type": "code",
   "execution_count": 6,
   "metadata": {},
   "outputs": [
    {
     "name": "stdout",
     "output_type": "stream",
     "text": [
      "1980\n",
      "12\n",
      "16\n"
     ]
    }
   ],
   "source": [
    "new_tripAttr = []\n",
    "new_reb_time = []\n",
    "new_total_acc = []\n",
    "temp_demand = 0\n",
    "for origin in range(duration_data.shape[0]):\n",
    "    for destination in range(duration_data.shape[1]):\n",
    "        for ts in range(episode_length):\n",
    "            attr = defaultdict()\n",
    "            attr['time_stamp'] = ts\n",
    "            attr['origin'] = origin\n",
    "            attr['destination'] = destination\n",
    "            attr['demand'] = round(od_data[origin,destination,int(ts*time_granularity)]*time_granularity) # create equal distributed demand over granular time \n",
    "            temp_demand += attr['demand']\n",
    "            attr['price'] = distance_data[origin,destination,int(ts*time_granularity)]*0.91 + duration_data[origin,destination,int(ts*time_granularity)]*time_granularity * 0.39 + 2.20 + 2.70 # in $\n",
    "            new_tripAttr.append(attr)\n",
    "\n",
    "            reb = defaultdict()\n",
    "            reb['time_stamp'] = ts\n",
    "            reb['origin'] = origin\n",
    "            reb['destination'] = destination\n",
    "            reb['reb_time'] = int(duration_data[origin,destination,int(ts*time_granularity)])\n",
    "            new_reb_time.append(reb)\n",
    "print(temp_demand)\n",
    "# should be able to change 24 to 1, we don't change the number of vehicles across the day\n",
    "for hour in range(24):\n",
    "    acc = defaultdict()\n",
    "    acc['hour'] = hour\n",
    "    acc['acc'] = math.ceil(fleet_size)\n",
    "    new_total_acc.append(acc)\n",
    "new_data = defaultdict()\n",
    "new_data['demand'] = new_tripAttr\n",
    "new_data['rebTime'] = new_reb_time\n",
    "new_data['totalAcc'] = new_total_acc\n",
    "new_data['chargelevels'] = number_chargelevels\n",
    "new_data['spatialNodes'] = number_spatial_nodes\n",
    "new_data['chargeLevelsPerChargeStep'] = charge_levels_per_charge_step\n",
    "new_data['episodeLength'] = episode_length\n",
    "new_data['energy_prices'] = p_energy.tolist()\n",
    "new_data['chargeLocations'] = charge_locations\n",
    "new_data['carsPerStationCapacity'] = cars_per_station_capacity\n",
    "new_data['timeGranularity'] = time_granularity\n",
    "new_data['operationalCostPerTimestep'] = operational_cost_per_timestep\n",
    "\n",
    "print(charge_levels_per_charge_step)\n",
    "print(episode_length)\n",
    "with open(f'NYC_{number_spatial_nodes}.json', 'w') as f:\n",
    "    json.dump(new_data, f)"
   ]
  },
  {
   "cell_type": "code",
   "execution_count": null,
   "metadata": {},
   "outputs": [],
   "source": []
  },
  {
   "cell_type": "code",
   "execution_count": null,
   "metadata": {},
   "outputs": [],
   "source": []
  },
  {
   "cell_type": "code",
   "execution_count": null,
   "metadata": {},
   "outputs": [],
   "source": []
  }
 ],
 "metadata": {
  "kernelspec": {
   "display_name": "Python 3.7.12 ('pamod')",
   "language": "python",
   "name": "python3"
  },
  "language_info": {
   "codemirror_mode": {
    "name": "ipython",
    "version": 3
   },
   "file_extension": ".py",
   "mimetype": "text/x-python",
   "name": "python",
   "nbconvert_exporter": "python",
   "pygments_lexer": "ipython3",
   "version": "3.9.13"
  },
  "orig_nbformat": 4,
  "vscode": {
   "interpreter": {
    "hash": "0f8edb555df32b3dff9504d8c4d29eadaf231ea869cc9ae1afb4d8556d0e264c"
   }
  }
 },
 "nbformat": 4,
 "nbformat_minor": 2
}
